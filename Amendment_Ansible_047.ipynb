{
  "nbformat": 4,
  "nbformat_minor": 0,
  "metadata": {
    "colab": {
      "provenance": []
    },
    "kernelspec": {
      "name": "python3",
      "display_name": "Python 3"
    },
    "language_info": {
      "name": "python"
    }
  },
  "cells": [
    {
      "cell_type": "code",
      "execution_count": 69,
      "metadata": {
        "id": "IeuJsm61ikRr"
      },
      "outputs": [],
      "source": [
        "# Importing important libraries\n",
        "import numpy as np\n",
        "import pandas as pd\n",
        "import seaborn as sns\n",
        "import matplotlib.pyplot as plt\n",
        "%matplotlib inline\n",
        "import warnings\n",
        "warnings.filterwarnings('ignore')\n",
        "import requests\n",
        "import openpyxl\n"
      ]
    },
    {
      "cell_type": "code",
      "source": [
        "bonus_cost_link = 'https://docs.google.com/uc?export=download&id=12xPdp6PEJEJP8qyVaaj7Qey6ZR0AkbVx' # 1 sheet\n",
        "first_bet_link = 'https://docs.google.com/uc?export=download&id=1_s8Kbv7KgdJlY1eJueW6hKiI2gfAF1PR' # 1 sheet\n",
        "first_deposit_link = 'https://docs.google.com/uc?export=download&id=18QgUwvY_yQml8bYa21chHS0AlaeAE45N' # 2 sheets\n",
        "player_activity_link = 'https://docs.google.com/uc?export=download&id=16037oorbl30sMudPRQKNGO5xXg27773a' # 2 sheets\n",
        "player_details_link = 'https://docs.google.com/uc?export=download&id=1WZ6PBVqSRj77feQHNojp9Q5a5ibCfVJz' # 2 sheets"
      ],
      "metadata": {
        "id": "SCEwQxzBi1Ad"
      },
      "execution_count": 70,
      "outputs": []
    },
    {
      "cell_type": "code",
      "source": [
        "# # would give us a response object from which we can take out the file\n",
        "# bonus_cost_resp = requests.get(link)"
      ],
      "metadata": {
        "id": "D6gbKV8Vlipn"
      },
      "execution_count": null,
      "outputs": []
    },
    {
      "cell_type": "code",
      "source": [
        "# # let's write the file to a new file (bonus_cost_orig) we created\n",
        "# open('bonus_cost_orig.xlsx', 'wb').write(bonus_cost_resp.content)\n",
        "# # Close the file\n",
        "# open('bonus_cost_orig.xlsx', 'wb').close()\n",
        "\n",
        "# # w = write, b = binary\n",
        "# # content = retrive the content in bonus_cost_resp (response object)\n"
      ],
      "metadata": {
        "id": "oPosTXXdWyDQ"
      },
      "execution_count": null,
      "outputs": []
    },
    {
      "cell_type": "code",
      "source": [
        "# alternatively, we can use pd.read_excel() to achieve the same results.\n",
        "\n",
        "bonus_cost_data_orig = pd.read_excel(bonus_cost_link)\n",
        "print(bonus_cost_data_orig)"
      ],
      "metadata": {
        "id": "NQ_iPz-VcfxX",
        "colab": {
          "base_uri": "https://localhost:8080/"
        },
        "outputId": "82c10a09-64c1-46df-a2ac-60adf8fb16fc"
      },
      "execution_count": null,
      "outputs": [
        {
          "output_type": "stream",
          "name": "stdout",
          "text": [
            "        Unnamed: 0     Unnamed: 1           Unnamed: 2  Unnamed: 3  Unnamed: 4\n",
            "0              NaN  Src_PLAYER_ID        ActivityMonth     Product  BONUS_COST\n",
            "1              NaN       16051927  2020-06-30 00:00:00     eGaming          50\n",
            "2              NaN       19309540  2021-02-28 00:00:00     eGaming          40\n",
            "3              NaN       13176431  2020-01-31 00:00:00     eGaming          15\n",
            "4              NaN       12405628  2019-02-28 00:00:00  SportsBook          30\n",
            "...            ...            ...                  ...         ...         ...\n",
            "207066         NaN       12655588  2020-12-31 00:00:00     eGaming          20\n",
            "207067         NaN       15199116  2020-03-31 00:00:00     eGaming         100\n",
            "207068         NaN       18399633  2020-12-31 00:00:00     eGaming          25\n",
            "207069         NaN       15298566  2020-06-30 00:00:00     eGaming          20\n",
            "207070         NaN       19696774  2021-03-31 00:00:00     eGaming         125\n",
            "\n",
            "[207071 rows x 5 columns]\n"
          ]
        }
      ]
    },
    {
      "cell_type": "code",
      "source": [
        "# similarly, we are going to import the rest of the files\n",
        "# we, are also converting them into data frames\n",
        "\n",
        "first_bet_orig = pd.read_excel(first_bet_link)\n",
        "print(first_bet_orig)"
      ],
      "metadata": {
        "colab": {
          "base_uri": "https://localhost:8080/"
        },
        "id": "q6C6_CTXdK38",
        "outputId": "23f9d430-f3e3-4a44-cc97-94befbfbcf0e"
      },
      "execution_count": null,
      "outputs": [
        {
          "output_type": "stream",
          "name": "stdout",
          "text": [
            "        Unnamed: 0     Unnamed: 1                  Unnamed: 2  \\\n",
            "0              NaN  Src_Player_Id   System_First_Bet_Datetime   \n",
            "1              NaN       15643431         2020-10-09 03:57:29   \n",
            "2              NaN       13593034  2019-09-27 15:03:58.244000   \n",
            "3              NaN       15894194         2021-02-28 02:22:07   \n",
            "4              NaN       13238000         2019-07-08 10:39:45   \n",
            "...            ...            ...                         ...   \n",
            "292781         NaN       18703784                         NaN   \n",
            "292782         NaN       12340331         2020-05-19 07:44:29   \n",
            "292783         NaN       12343435         2019-01-04 14:08:42   \n",
            "292784         NaN       12358643  2019-01-08 12:22:11.442000   \n",
            "292785         NaN       12360437                         NaN   \n",
            "\n",
            "                      Unnamed: 3                      Unnamed: 4  \\\n",
            "0       System_First_BetSlip_Amt  System_First_Bet_Product_Group   \n",
            "1                            2.5                         eGaming   \n",
            "2                             10                          Sports   \n",
            "3                              2                         eGaming   \n",
            "4                            0.4                         eGaming   \n",
            "...                          ...                             ...   \n",
            "292781                       NaN                             NaN   \n",
            "292782                       0.8                         eGaming   \n",
            "292783                         1                         eGaming   \n",
            "292784                         1                          Sports   \n",
            "292785                       NaN                             NaN   \n",
            "\n",
            "                      Unnamed: 5                Unnamed: 6  \\\n",
            "0       System_First_Bet_Product  System_First_Bet_Channel   \n",
            "1                Non Table Games                    Online   \n",
            "2                       Prematch                    Online   \n",
            "3                Non Table Games                    Online   \n",
            "4                Non Table Games                    Online   \n",
            "...                          ...                       ...   \n",
            "292781                       NaN                       NaN   \n",
            "292782           Non Table Games                    Online   \n",
            "292783           Non Table Games                    Online   \n",
            "292784                  Prematch                    Online   \n",
            "292785                       NaN                       NaN   \n",
            "\n",
            "                       Unnamed: 7  \n",
            "0       System_First_Bet_Platform  \n",
            "1                          Mobile  \n",
            "2                          Mobile  \n",
            "3                             Web  \n",
            "4                          Mobile  \n",
            "...                           ...  \n",
            "292781                        NaN  \n",
            "292782                        Web  \n",
            "292783                     Mobile  \n",
            "292784                     Mobile  \n",
            "292785                        NaN  \n",
            "\n",
            "[292786 rows x 8 columns]\n"
          ]
        }
      ]
    },
    {
      "cell_type": "code",
      "source": [
        "first_deposit_orig = pd.read_excel(first_deposit_link, sheet_name = \"Backend Data\" )\n",
        "first_deposit_data_dict = pd.read_excel(first_deposit_link, sheet_name = \"Data Dictionary\")\n",
        "print(first_deposit_orig)"
      ],
      "metadata": {
        "colab": {
          "base_uri": "https://localhost:8080/"
        },
        "id": "eYCDppzVkZcd",
        "outputId": "0b49f5c2-7679-49ad-d362-718f45df30e1"
      },
      "execution_count": null,
      "outputs": [
        {
          "output_type": "stream",
          "name": "stdout",
          "text": [
            "        Unnamed: 0     Unnamed: 1           Unnamed: 2             Unnamed: 3  \\\n",
            "0              NaN  Src_Player_Id   First_Deposit_Date  First_Deposit_Channel   \n",
            "1              NaN       13472812                  NaN                    NaN   \n",
            "2              NaN       13331793                  NaN                    NaN   \n",
            "3              NaN       13116242                  NaN                    NaN   \n",
            "4              NaN       12689016                  NaN                    NaN   \n",
            "...            ...            ...                  ...                    ...   \n",
            "292781         NaN       20698616  2021-06-30 14:35:08                 Online   \n",
            "292782         NaN       20353607                  NaN                    NaN   \n",
            "292783         NaN       12835955  2019-04-18 18:53:14                 Online   \n",
            "292784         NaN       20399631  2021-06-17 09:11:35                 Online   \n",
            "292785         NaN       17870051  2020-11-19 02:55:00                 Online   \n",
            "\n",
            "                  Unnamed: 4            Unnamed: 5  \n",
            "0       First_Deposit_Method  First_Deposit_Amount  \n",
            "1                        NaN                   NaN  \n",
            "2                        NaN                   NaN  \n",
            "3                        NaN                   NaN  \n",
            "4                        NaN                   NaN  \n",
            "...                      ...                   ...  \n",
            "292781                    MC                    50  \n",
            "292782                   NaN                   NaN  \n",
            "292783                  VISA                   100  \n",
            "292784                  VISA                    50  \n",
            "292785                  VISA                    50  \n",
            "\n",
            "[292786 rows x 6 columns]\n"
          ]
        }
      ]
    },
    {
      "cell_type": "code",
      "source": [
        "player_details_orig = pd.read_excel(player_details_link, sheet_name = \"Backend Data\")\n",
        "player_details_data_dict_orig = pd.read_excel(player_details_link, sheet_name = \"Data Dictionary\")\n",
        "print(player_details_orig)"
      ],
      "metadata": {
        "colab": {
          "base_uri": "https://localhost:8080/"
        },
        "id": "oNGlY8QnrJFW",
        "outputId": "c34f8c6a-0365-4db9-d8d7-c38bc08d9b0c"
      },
      "execution_count": null,
      "outputs": [
        {
          "output_type": "stream",
          "name": "stdout",
          "text": [
            "        Unnamed: 0     Unnamed: 1           Unnamed: 2           Unnamed: 3  \\\n",
            "0              NaN  Src_Player_Id          Signup_Date  acquisition_channel   \n",
            "1              NaN       12584958  2019-02-23 17:24:49                  NaN   \n",
            "2              NaN       12356925  2019-01-07 15:57:11                  NaN   \n",
            "3              NaN       12500831  2019-02-10 08:31:13                  NaN   \n",
            "4              NaN       12660009  2019-03-12 09:42:53                  NaN   \n",
            "...            ...            ...                  ...                  ...   \n",
            "292781         NaN       18898864  2021-01-26 12:05:22            Affiliate   \n",
            "292782         NaN       19575899  2021-03-19 22:24:53            Affiliate   \n",
            "292783         NaN       20345090  2021-05-27 10:11:50            Affiliate   \n",
            "292784         NaN       19360675  2021-03-03 00:01:49            Affiliate   \n",
            "292785         NaN       19341910  2021-03-01 13:19:53            Affiliate   \n",
            "\n",
            "               Unnamed: 4 Unnamed: 5           Unnamed: 6          Unnamed: 7  \n",
            "0       src_advertiser_id     Gender        Date_Of_Birth  Internal_Player_YN  \n",
            "1                  999999         M   1991-08-05 00:00:00                  N   \n",
            "2                  999999         M   1993-09-09 00:00:00                  N   \n",
            "3                  999999         M   1971-10-15 00:00:00                  N   \n",
            "4                  999999         M   2000-12-15 00:00:00                  N   \n",
            "...                   ...        ...                  ...                 ...  \n",
            "292781             130850         F   1993-10-17 00:00:00                  N   \n",
            "292782             130850         M   1988-11-20 00:00:00                  N   \n",
            "292783             130850         M   1982-06-11 00:00:00                  N   \n",
            "292784             130850         F   2000-06-16 00:00:00                  N   \n",
            "292785             130850         M   2001-04-25 00:00:00                  N   \n",
            "\n",
            "[292786 rows x 8 columns]\n"
          ]
        }
      ]
    },
    {
      "cell_type": "code",
      "source": [
        "player_activity_orig = pd.read_excel(player_activity_link)\n",
        "# this file is greater than 51 mbs and you usually can't download it without clicking download anyway\n",
        "# so that might be causing some problems"
      ],
      "metadata": {
        "id": "rr7Lt-PWr0JA"
      },
      "execution_count": 90,
      "outputs": []
    },
    {
      "cell_type": "code",
      "source": [
        "pa_resc = requests.get(player_activity_link)\n",
        "\n",
        "open('player_activity.xlsx', 'wb').write(pa_resc.content)\n",
        "open('player_activity.xlsx', 'wb').close()\n",
        "\n",
        "# w = write, b = binary\n",
        "# content = retrive the content in bonus_cost_resp (response object)"
      ],
      "metadata": {
        "id": "-kZ5waR8LkK9"
      },
      "execution_count": 71,
      "outputs": []
    },
    {
      "cell_type": "code",
      "source": [
        "# prompt: get the file in player_activity_link\n",
        "\n",
        "\n",
        "\n",
        "player_activity_orig = pd.read_excel(player_activity_link, sheet_name = \"Backend Data\")\n"
      ],
      "metadata": {
        "id": "DqYY_MbJNfi4"
      },
      "execution_count": 83,
      "outputs": []
    },
    {
      "cell_type": "code",
      "source": [
        "player_activity_dict_orig = pd.read_excel(player_activity_link, sheet_name = \"Data Dictionary\")"
      ],
      "metadata": {
        "id": "DwqorDb6TNf9"
      },
      "execution_count": 88,
      "outputs": []
    },
    {
      "cell_type": "code",
      "source": [
        "print(player_activity_dict_orig)"
      ],
      "metadata": {
        "colab": {
          "base_uri": "https://localhost:8080/"
        },
        "id": "vNxUUgS7UVfJ",
        "outputId": "85f0c32c-ef05-4a79-9014-d1450f681428"
      },
      "execution_count": 89,
      "outputs": [
        {
          "output_type": "stream",
          "name": "stdout",
          "text": [
            "    Unnamed: 0                                         Unnamed: 1  \\\n",
            "0          NaN                                        Column Name   \n",
            "1          NaN                                      src_player_id   \n",
            "2          NaN                                      ActivityMonth   \n",
            "3          NaN                                            Product   \n",
            "4          NaN                                         SubProduct   \n",
            "5          NaN                                   ActivePlayerDays   \n",
            "6          NaN                                         Bet_Amount   \n",
            "7          NaN                                         Win_Amount   \n",
            "8          NaN                                          Gross_Win   \n",
            "9          NaN                                      Net_Gross_Win   \n",
            "10         NaN  Net Gross Revenue (NGR) = Net Gross Win - Bonu...   \n",
            "\n",
            "                                           Unnamed: 2  \n",
            "0                                         Description  \n",
            "1                            Unique Player Identifier  \n",
            "2   Month where a player was active (placed a bet)...  \n",
            "3   Product on which the player is betting. Sports...  \n",
            "4   Livebook: Live betting which is available only...  \n",
            "5           #Days the player is active (placed a bet)  \n",
            "6                     Bet amount placed by the player  \n",
            "7                            Amount won by the player  \n",
            "8   = Bet amount - Win Amount [Positive Gross Win ...  \n",
            "9                   = Bet amount - Win Amount - Taxes  \n",
            "10                                                NaN  \n"
          ]
        }
      ]
    },
    {
      "cell_type": "code",
      "source": [
        "print(player_activity_orig)"
      ],
      "metadata": {
        "colab": {
          "base_uri": "https://localhost:8080/"
        },
        "id": "e5GDmSGjWqL8",
        "outputId": "7310de9f-2298-4081-8045-2c749514d15c"
      },
      "execution_count": 85,
      "outputs": [
        {
          "output_type": "stream",
          "name": "stdout",
          "text": [
            "        Unnamed: 0     Unnamed: 1           Unnamed: 2  Unnamed: 3  \\\n",
            "0              NaN  src_player_id        ActivityMonth     Product   \n",
            "1              NaN       16585649  2020-08-31 00:00:00  SportsBook   \n",
            "2              NaN       12845036  2019-05-31 00:00:00  SportsBook   \n",
            "3              NaN       12720869  2021-06-30 00:00:00     eGaming   \n",
            "4              NaN       18979743  2021-02-28 00:00:00     eGaming   \n",
            "...            ...            ...                  ...         ...   \n",
            "860226         NaN       13439064  2019-09-30 00:00:00  SportsBook   \n",
            "860227         NaN       16005291  2020-07-31 00:00:00     eGaming   \n",
            "860228         NaN       15816105  2021-05-31 00:00:00     eGaming   \n",
            "860229         NaN       13435803  2020-12-31 00:00:00     eGaming   \n",
            "860230         NaN       12742712  2021-05-31 00:00:00  SportsBook   \n",
            "\n",
            "             Unnamed: 4        Unnamed: 5  Unnamed: 6  Unnamed: 7 Unnamed: 8  \\\n",
            "0            SubProduct  ActivePlayerDays  Bet_Amount  Win_Amount  Gross_Win   \n",
            "1              Livebook                 1         500           0        500   \n",
            "2              Prematch                28     1229.48     1177.85      41.63   \n",
            "3       Non Table Games                 1        73.4        46.2       27.2   \n",
            "4       Non Table Games                 1          52        21.7       30.3   \n",
            "...                 ...               ...         ...         ...        ...   \n",
            "860226         Livebook                 2         255           0        255   \n",
            "860227  Non Table Games                 4         123       53.55    68.9451   \n",
            "860228      Table Games                 1         125          50         75   \n",
            "860229  Non Table Games                 1        31.4       11.45      19.95   \n",
            "860230         Prematch                 3       278.4      559.73    -281.33   \n",
            "\n",
            "           Unnamed: 9  \n",
            "0       Net_Gross_Win  \n",
            "1                 420  \n",
            "2             34.9692  \n",
            "3              22.848  \n",
            "4              25.452  \n",
            "...               ...  \n",
            "860226          214.2  \n",
            "860227      57.913884  \n",
            "860228             63  \n",
            "860229         16.758  \n",
            "860230      -236.3172  \n",
            "\n",
            "[860231 rows x 10 columns]\n"
          ]
        }
      ]
    },
    {
      "cell_type": "code",
      "source": [],
      "metadata": {
        "id": "car38xW9XUEL"
      },
      "execution_count": null,
      "outputs": []
    }
  ]
}